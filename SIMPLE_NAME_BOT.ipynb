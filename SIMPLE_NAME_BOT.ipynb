{
  "nbformat": 4,
  "nbformat_minor": 0,
  "metadata": {
    "colab": {
      "provenance": [],
      "authorship_tag": "ABX9TyMobZTcKhUD/dq1DRnaUpIr",
      "include_colab_link": true
    },
    "kernelspec": {
      "name": "python3",
      "display_name": "Python 3"
    },
    "language_info": {
      "name": "python"
    }
  },
  "cells": [
    {
      "cell_type": "markdown",
      "metadata": {
        "id": "view-in-github",
        "colab_type": "text"
      },
      "source": [
        "<a href=\"https://colab.research.google.com/github/Leon010625/Computing-Grade-8/blob/main/SIMPLE_NAME_BOT.ipynb\" target=\"_parent\"><img src=\"https://colab.research.google.com/assets/colab-badge.svg\" alt=\"Open In Colab\"/></a>"
      ]
    },
    {
      "cell_type": "code",
      "execution_count": 2,
      "metadata": {
        "colab": {
          "base_uri": "https://localhost:8080/",
          "height": 106
        },
        "collapsed": true,
        "id": "LJp3Hbs-7Hml",
        "outputId": "c3d9a7dc-843a-4a59-cfbc-b553395b4081"
      },
      "outputs": [
        {
          "output_type": "error",
          "ename": "SyntaxError",
          "evalue": "invalid decimal literal (ipython-input-2779722573.py, line 3)",
          "traceback": [
            "\u001b[0;36m  File \u001b[0;32m\"/tmp/ipython-input-2779722573.py\"\u001b[0;36m, line \u001b[0;32m3\u001b[0m\n\u001b[0;31m    print (hello 8c)\u001b[0m\n\u001b[0m                 ^\u001b[0m\n\u001b[0;31mSyntaxError\u001b[0m\u001b[0;31m:\u001b[0m invalid decimal literal\n"
          ]
        }
      ],
      "source": [
        "# Data types\n",
        "# str = string = to write/keep text\n",
        "print ('hello 8c')\n",
        "# numeric types: integer (int), float (for decimals)\n",
        "print ('8.5')\n"
      ]
    },
    {
      "cell_type": "code",
      "source": [
        "# math operator + - / % * addition, substraction, division, and multiplication\n",
        "print (\"8C+7C\")"
      ],
      "metadata": {
        "id": "EVv_w7iv8-t8"
      },
      "execution_count": null,
      "outputs": []
    },
    {
      "cell_type": "code",
      "source": [
        "# VARIABLE + NAMING\\\n",
        "# in python + case sensitive\n",
        "# ways on write variable = u're not allowed to start with number\n",
        "# not put space between\n",
        "#8c = 20 ---> wrong\n",
        "# eight c = 20 ---> wrong\n",
        "fried_fish = 100\n",
        "fried_fish = 99"
      ],
      "metadata": {
        "id": "peiGu_K7-14k"
      },
      "execution_count": null,
      "outputs": []
    },
    {
      "cell_type": "code",
      "source": [
        "# input = determined the data type\n",
        "name = input (\"please type your name\")\n",
        "print (\"name?\")"
      ],
      "metadata": {
        "id": "7DjbvMFHAm6S"
      },
      "execution_count": null,
      "outputs": []
    },
    {
      "cell_type": "code",
      "source": [
        "name = input (\"type ur name here\")\n",
        "age = input (\"type ur age here\")\n",
        "print (\"hi, name \"you are ,\" age\" years old\" )\n"
      ],
      "metadata": {
        "id": "YZVD1cDNBf0s"
      },
      "execution_count": null,
      "outputs": []
    }
  ]
}